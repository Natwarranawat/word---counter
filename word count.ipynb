{
 "cells": [
  {
   "cell_type": "code",
   "execution_count": null,
   "id": "9a7c7d2d",
   "metadata": {},
   "outputs": [
    {
     "name": "stdout",
     "output_type": "stream",
     "text": [
      "\n",
      "Welcome to the Word Counter Program!\n",
      "Enter a sentence or paragraph to count the words.\n",
      "Type 'exit' to quit the program.\n",
      "\n"
     ]
    }
   ],
   "source": [
    "import re\n",
    "\n",
    "def count_words(text):\n",
    "    \"\"\"\n",
    "    Function to count the number of words in a given text.\n",
    "    :param text: str - The input text from the user.\n",
    "    :return: int - The number of words in the input text.\n",
    "    \"\"\"\n",
    "    text = text.strip()  # Removing leading and trailing spaces\n",
    "    words = re.findall(r'\\b\\w+\\b', text)  # Using regex to extract words accurately\n",
    "    return len(words)  # Returning the count of words\n",
    "\n",
    "\n",
    "def main():\n",
    "    \"\"\"\n",
    "    Main function to handle user input, process word count, and display output.\n",
    "    \"\"\"\n",
    "    print(\"\\nWelcome to the Word Counter Program!\")  # Friendly welcome message\n",
    "    print(\"Enter a sentence or paragraph to count the words.\")\n",
    "    print(\"Type 'exit' to quit the program.\\n\")\n",
    "    \n",
    "    while True:\n",
    "        # Prompting the user to enter a sentence or paragraph\n",
    "        text = input(\"Enter text: \").strip()\n",
    "        \n",
    "        if text.lower() == 'exit':  # Exit condition to stop the program\n",
    "            print(\"\\nThank you for using the Word Counter. Goodbye!\")\n",
    "            break\n",
    "        \n",
    "        if not text:  # Check for empty input\n",
    "            print(\"Error: Input cannot be empty. Please enter some text.\\n\")\n",
    "            continue\n",
    "        \n",
    "        try:\n",
    "            word_count = count_words(text)  # Calling the function to count words\n",
    "            print(f\"Word Count: {word_count}\\n\")  # Displaying the word count\n",
    "        except Exception as e:\n",
    "            print(f\"An unexpected error occurred: {e}. Please try again.\\n\")  # Handling unexpected errors\n",
    "\n",
    "\n",
    "if __name__ == \"__main__\":\n",
    "    main()  # Running the main function"
   ]
  },
  {
   "cell_type": "code",
   "execution_count": null,
   "id": "50620e5f",
   "metadata": {},
   "outputs": [],
   "source": []
  }
 ],
 "metadata": {
  "kernelspec": {
   "display_name": "Python 3 (ipykernel)",
   "language": "python",
   "name": "python3"
  },
  "language_info": {
   "codemirror_mode": {
    "name": "ipython",
    "version": 3
   },
   "file_extension": ".py",
   "mimetype": "text/x-python",
   "name": "python",
   "nbconvert_exporter": "python",
   "pygments_lexer": "ipython3",
   "version": "3.11.5"
  }
 },
 "nbformat": 4,
 "nbformat_minor": 5
}
